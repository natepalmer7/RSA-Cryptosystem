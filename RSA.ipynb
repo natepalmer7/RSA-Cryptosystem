{
 "cells": [
  {
   "cell_type": "markdown",
   "metadata": {},
   "source": [
    "# RSA"
   ]
  },
  {
   "cell_type": "code",
   "execution_count": 6,
   "metadata": {},
   "outputs": [],
   "source": [
    "def Convert_Text(_string):\n",
    "    #_string = \"Hello World\"\n",
    "    \n",
    "    \"\"\"\n",
    "    Define this function such that it takes in a simple \n",
    "    string such as \"hello\" and outputs the corresponding\n",
    "    standard list of integers (ascii) for each letter in the word hello.\n",
    "    For example:\n",
    "    _string = hello\n",
    "    integer_list = [104, 101, 108, 108, 111]\n",
    "    \n",
    "    You may use \"ord()\"\n",
    "    \"\"\"\n",
    "\n",
    "    text_list = list(_string)\n",
    "    return_list = []\n",
    "    \n",
    "    for i in text_list: #iterating through the text_list\n",
    "        return_list.append(ord(i)) #convert each character to unicode and append to list \n",
    "    return return_list #returning the list"
   ]
  },
  {
   "cell_type": "code",
   "execution_count": 7,
   "metadata": {},
   "outputs": [
    {
     "data": {
      "text/plain": [
       "[72, 101, 108, 108, 111]"
      ]
     },
     "execution_count": 7,
     "metadata": {},
     "output_type": "execute_result"
    }
   ],
   "source": [
    "Convert_Text(\"Hello\")"
   ]
  },
  {
   "cell_type": "code",
   "execution_count": 8,
   "metadata": {},
   "outputs": [],
   "source": [
    "def Convert_Num(_list):\n",
    "    \"\"\"\n",
    "    Do the opposite of what you did in the Convert_Text\n",
    "    function defined above.\n",
    "    \n",
    "    Define this function such that it takes in a list of integers\n",
    "    and outputs the corresponding string (ascii).\n",
    "    \n",
    "    For example:\n",
    "    _list = [104, 101, 108, 108, 111]\n",
    "    _string = hello\n",
    "    \"\"\"\n",
    "    integer_list = _list #setting a new variable name. \n",
    "    return_string = ''.join(chr(char) for char in integer_list) #set integers to join as characters \n",
    "    return return_string #returning the string "
   ]
  },
  {
   "cell_type": "code",
   "execution_count": 9,
   "metadata": {},
   "outputs": [
    {
     "data": {
      "text/plain": [
       "'hello'"
      ]
     },
     "execution_count": 9,
     "metadata": {},
     "output_type": "execute_result"
    }
   ],
   "source": [
    "Convert_Num([104, 101, 108, 108, 111])"
   ]
  },
  {
   "cell_type": "code",
   "execution_count": 10,
   "metadata": {},
   "outputs": [],
   "source": [
    "def Convert_Binary_String(_int):\n",
    "    \"\"\"\n",
    "    Here, you need to define a function that converts an integer to\n",
    "    a string of its binary expansion.\n",
    "    \n",
    "    For example:\n",
    "    _int = 345\n",
    "    bits = 101011001\n",
    "    \"\"\"\n",
    "    bits = bin(_int)[2:] #setting integer input to a binary number \n",
    "    return bits #returning the bits variable"
   ]
  },
  {
   "cell_type": "code",
   "execution_count": 11,
   "metadata": {},
   "outputs": [
    {
     "data": {
      "text/plain": [
       "'101011001'"
      ]
     },
     "execution_count": 11,
     "metadata": {},
     "output_type": "execute_result"
    }
   ],
   "source": [
    "Convert_Binary_String(345)"
   ]
  },
  {
   "cell_type": "code",
   "execution_count": 12,
   "metadata": {},
   "outputs": [],
   "source": [
    "def FME(b, n, m):\n",
    "    \"\"\"\n",
    "    1. Using the fast modular exponentiation algorithm,\n",
    "    the below function should return b**n mod m.\n",
    "    As described on page 254. (however, you may input the exponent and \n",
    "    then convert it to a string - the book verison imports the binary expansion)  \n",
    "    2. You should use the function defined above\n",
    "    Convert_Binary_String() if using the book algorithm.\n",
    "    3. Yes, there are many other ways to do this depending on which algorithm you have chosen.\n",
    "\n",
    "***UPDATE*** You may use the function you developed in your Mastery Workbook - but be sure it is your own work, commented, etc.. and change inputs as needed.\n",
    "    \"\"\"  \n",
    "    #return pow(b, pow(2,n), m)\n",
    "    result = 1 #initialize result to 1\n",
    "    square = b #initialize square to b\n",
    "    while(n>0): #loop through key as long as it is > 0\n",
    "        if(n%2==1): #if key is prime\n",
    "            result = (result*square)%m # c*b%m where c stored in result variable\n",
    "            n=n-1 # subtract key minus 1\n",
    "        else:\n",
    "            square = (square*square) %m #square operator b\n",
    "            n=n//2 #integer division of key\n",
    "    return result"
   ]
  },
  {
   "cell_type": "code",
   "execution_count": 13,
   "metadata": {},
   "outputs": [
    {
     "data": {
      "text/plain": [
       "1"
      ]
     },
     "execution_count": 13,
     "metadata": {},
     "output_type": "execute_result"
    }
   ],
   "source": [
    "FME(10,2,11)"
   ]
  },
  {
   "cell_type": "code",
   "execution_count": 14,
   "metadata": {},
   "outputs": [],
   "source": [
    "def Euclidean_Alg(a, b):\n",
    "    \"\"\"\n",
    "    1. Calculate the Greatest Common Divisor of a and b.\n",
    "    \n",
    "    2. This version should have only postive inputs and outputs.\n",
    "    \n",
    "    3. Consider \n",
    "    \n",
    "    The function must return a single integer 'x' which is\n",
    "    the gcd of a and b. \n",
    "    \"\"\"\n",
    "    if(a<0 or b<0 or (a<0 and b<0)):   #checking for positive numbers\n",
    "        print(\"Input must be positive\") #print positive numbers\n",
    "    while b>0:    #if b is a positive number > 0 the calculate the GCD\n",
    "        a, b = b, a % b #set a equal to b and b equal to a%b\n",
    "    return a"
   ]
  },
  {
   "cell_type": "code",
   "execution_count": 15,
   "metadata": {},
   "outputs": [
    {
     "data": {
      "text/plain": [
       "14"
      ]
     },
     "execution_count": 15,
     "metadata": {},
     "output_type": "execute_result"
    }
   ],
   "source": [
    "Euclidean_Alg(98,56)"
   ]
  },
  {
   "cell_type": "code",
   "execution_count": 1,
   "metadata": {},
   "outputs": [],
   "source": [
    "# function to find extended gcd\n",
    "def egcd(a, b):\n",
    "    if a == 0:\n",
    "        return (b, 0, 1) #base case for a = 0\n",
    "    else:\n",
    "        g, y, x = egcd(b % a, a) #recursive call \n",
    "        return (g, x - (b // a) * y, y)"
   ]
  },
  {
   "cell_type": "code",
   "execution_count": 2,
   "metadata": {},
   "outputs": [
    {
     "data": {
      "text/plain": [
       "(14, -1, 2)"
      ]
     },
     "execution_count": 2,
     "metadata": {},
     "output_type": "execute_result"
    }
   ],
   "source": [
    "egcd(98,56)"
   ]
  },
  {
   "cell_type": "markdown",
   "metadata": {},
   "source": [
    "### Public and Private Keys\n",
    "\n",
    "Here we will implement the meat of the RSA cryptosystem. The functions below will generate the public and private key pairs which will then be used to create a ciphertext using the public key and then decode the same using the pirvate key.\n",
    "\n"
   ]
  },
  {
   "cell_type": "code",
   "execution_count": 18,
   "metadata": {},
   "outputs": [],
   "source": [
    "\n",
    "import random \n",
    "def Find_Public_Key_e(p, q):\n",
    "    \n",
    "    phi =(p-1)*(q-1)  #find relatively prime \n",
    "    n=p*q             #set key \n",
    "    e=random.randrange(1,phi) #set key random ra nge for relatively prime \n",
    "    g= Euclidean_Alg(e,phi)\n",
    "    while g!=1:\n",
    "        e= random.randrange(1,phi)\n",
    "        g=Euclidean_Alg(e,phi)\n",
    "    return(n,e)"
   ]
  },
  {
   "cell_type": "code",
   "execution_count": 19,
   "metadata": {},
   "outputs": [
    {
     "name": "stdout",
     "output_type": "stream",
     "text": [
      "185 221\n"
     ]
    }
   ],
   "source": [
    "p =13\n",
    "q=17\n",
    "phi = (p-1)*(q-1)\n",
    "n,e=Find_Public_Key_e(p,q)\n",
    "print (e,n)"
   ]
  },
  {
   "cell_type": "code",
   "execution_count": 20,
   "metadata": {},
   "outputs": [],
   "source": [
    "def Find_Private_Key_d(e, p, q):\n",
    "    phi =(p-1)*(q-1)\n",
    "    a,b,c = egcd(e,phi)\n",
    "    d = b\n",
    "    \n",
    "    while(d<0):\n",
    "        d+=phi\n",
    "    return d "
   ]
  },
  {
   "cell_type": "code",
   "execution_count": 21,
   "metadata": {},
   "outputs": [
    {
     "data": {
      "text/plain": [
       "137"
      ]
     },
     "execution_count": 21,
     "metadata": {},
     "output_type": "execute_result"
    }
   ],
   "source": [
    "Find_Private_Key_d(e,p,q)"
   ]
  },
  {
   "cell_type": "markdown",
   "metadata": {},
   "source": [
    "### Encode / Decode\n",
    "- Using the public key, the `Encode` function will encode a message and generate the corresponding cipher_text.\n",
    "- Using the private key, the `Decode` function will decode a ciper_text and recover the original message.\n",
    "\n"
   ]
  },
  {
   "cell_type": "code",
   "execution_count": 22,
   "metadata": {},
   "outputs": [
    {
     "name": "stdout",
     "output_type": "stream",
     "text": [
      "5251 3\n"
     ]
    }
   ],
   "source": [
    "#p=269\n",
    "#q=13\n",
    "n,e = Find_Public_Key_e(p,q)\n",
    "n,e = (5251,3)\n",
    "print(n,e)"
   ]
  },
  {
   "cell_type": "code",
   "execution_count": 23,
   "metadata": {},
   "outputs": [],
   "source": [
    "def Encode(n, e, message):\n",
    "    cipher_text = []\n",
    "    \n",
    "    encode = Convert_Text(message)\n",
    "    \n",
    "    for item in encode:\n",
    "        cipher_text.append(FME(item,e,n))\n",
    "    return cipher_text"
   ]
  },
  {
   "cell_type": "code",
   "execution_count": 27,
   "metadata": {},
   "outputs": [],
   "source": [
    "d = Find_Private_Key_d(e,p,q)\n",
    "#print(n,d)\n",
    "n,d = (5251,3403)"
   ]
  },
  {
   "cell_type": "code",
   "execution_count": 28,
   "metadata": {},
   "outputs": [],
   "source": [
    "def Decode(n, d, cipher_text):\n",
    "    message = ''\n",
    "    decode = []\n",
    "    #print(cipher_text)\n",
    "    for item in cipher_text:\n",
    "        decode.append(FME(item,d,n))\n",
    "    #print(decode)\n",
    "    message = Convert_Num(decode)\n",
    "    return message"
   ]
  },
  {
   "cell_type": "markdown",
   "metadata": {
    "tags": []
   },
   "source": [
    "### Demonstration"
   ]
  },
  {
   "cell_type": "code",
   "execution_count": 29,
   "metadata": {},
   "outputs": [],
   "source": [
    "def random_prime():\n",
    "    n=random.choice([x for x in range(1, 200) if not [t for t in range(2, x) if not x % t]])\n",
    "    return n"
   ]
  },
  {
   "cell_type": "code",
   "execution_count": 30,
   "metadata": {},
   "outputs": [
    {
     "name": "stdout",
     "output_type": "stream",
     "text": [
      "p: 17 q: 103\n",
      "n: 1751 e: 745\n",
      "d: 793\n"
     ]
    }
   ],
   "source": [
    "p=random_prime()\n",
    "q=random_prime()\n",
    "print(\"p:\",p,\"q:\",q)\n",
    "n,e = Find_Public_Key_e(p,q)\n",
    "print(\"n:\", n,\"e:\", e)\n",
    "d = Find_Private_Key_d(e,p,q)\n",
    "print(\"d:\", d)"
   ]
  },
  {
   "cell_type": "code",
   "execution_count": 33,
   "metadata": {},
   "outputs": [
    {
     "name": "stdout",
     "output_type": "stream",
     "text": [
      "[128, 8923, 11644, 5756, 1650, 8255, 7444, 2362, 6388, 9722, 11377, 11644, 1650, 1527, 6388, 1744, 1650, 108, 11644, 6388, 5269, 11644, 1650, 11644, 5269, 2325, 1650, 2362, 1712]\n"
     ]
    },
    {
     "data": {
      "text/plain": [
       "'My favorite animal is a shark'"
      ]
     },
     "execution_count": 33,
     "metadata": {},
     "output_type": "execute_result"
    }
   ],
   "source": [
    "encoded_list=Encode(n, e, 'My favorite animal is a shark')\n",
    "print(encoded_list)\n",
    "Decode(n,d,encoded_list)"
   ]
  },
  {
   "cell_type": "code",
   "execution_count": 34,
   "metadata": {},
   "outputs": [
    {
     "name": "stdout",
     "output_type": "stream",
     "text": [
      "[8332, 11644, 1650, 1744, 11644, 6965, 11644, 5756, 7444, 7444, 9722, 11644, 9052, 9052]\n"
     ]
    },
    {
     "data": {
      "text/plain": [
       "'I am 5 foot 11'"
      ]
     },
     "execution_count": 34,
     "metadata": {},
     "output_type": "execute_result"
    }
   ],
   "source": [
    "encoded_list=Encode(n, e, 'I am 5 foot 11')\n",
    "print(encoded_list)\n",
    "Decode(n,d,encoded_list)"
   ]
  },
  {
   "cell_type": "code",
   "execution_count": 35,
   "metadata": {},
   "outputs": [
    {
     "name": "stdout",
     "output_type": "stream",
     "text": [
      "[8332, 11644, 2325, 1650, 8255, 11377, 11644, 10385, 11644, 6929, 1650, 9722, 5269]\n"
     ]
    },
    {
     "data": {
      "text/plain": [
       "'I have 3 cats'"
      ]
     },
     "execution_count": 35,
     "metadata": {},
     "output_type": "execute_result"
    }
   ],
   "source": [
    "encoded_list=Encode(n, e, 'I have 3 cats')\n",
    "print(encoded_list)\n",
    "Decode(n,d,encoded_list)\n"
   ]
  },
  {
   "cell_type": "markdown",
   "metadata": {},
   "source": [
    "## Final Menu Function"
   ]
  },
  {
   "cell_type": "code",
   "execution_count": null,
   "metadata": {},
   "outputs": [
    {
     "name": "stdout",
     "output_type": "stream",
     "text": [
      "Before running the menu, p and q inputs must be generated\n"
     ]
    },
    {
     "name": "stdout",
     "output_type": "stream",
     "text": [
      "Do you want to generate random primes (p, q)? (y/n) y\n"
     ]
    },
    {
     "name": "stdout",
     "output_type": "stream",
     "text": [
      "(1) Encode\n",
      "(2) Decode\n",
      "(3) Get Keys\n",
      "(Q) Quit\n"
     ]
    },
    {
     "name": "stdout",
     "output_type": "stream",
     "text": [
      "Enter a choice:  1\n"
     ]
    },
    {
     "name": "stdout",
     "output_type": "stream",
     "text": [
      "Public Key (n,e):  298 31\n"
     ]
    },
    {
     "name": "stdout",
     "output_type": "stream",
     "text": [
      "Enter a message to encrypt: hello\n"
     ]
    },
    {
     "name": "stdout",
     "output_type": "stream",
     "text": [
      "[80, 233, 146, 146, 209]\n",
      "(1) Encode\n",
      "(2) Decode\n",
      "(3) Get Keys\n",
      "(Q) Quit\n"
     ]
    },
    {
     "name": "stdout",
     "output_type": "stream",
     "text": [
      "Enter a choice:  2\n"
     ]
    },
    {
     "name": "stdout",
     "output_type": "stream",
     "text": [
      "Private Key (d): 43\n"
     ]
    },
    {
     "name": "stdout",
     "output_type": "stream",
     "text": [
      "Enter private key value n:  298\n",
      "Enter private key value d:  43\n",
      "Enter cipher text list (NO BRACKETS):  80, 233, 146, 146, 209\n"
     ]
    },
    {
     "name": "stdout",
     "output_type": "stream",
     "text": [
      "hello\n",
      "(1) Encode\n",
      "(2) Decode\n",
      "(3) Get Keys\n",
      "(Q) Quit\n"
     ]
    }
   ],
   "source": [
    "import random\n",
    "def main():\n",
    "    def random_prime(): #generate random prime values\n",
    "        n=random.choice([x for x in range(1, 200) if not [t for t in range(2, x) if not x % t]])\n",
    "        return n #return random prime\n",
    "\n",
    "    def prime_option():\n",
    "        option = input('Do you want to generate random primes (p, q)? (y/n)').lower()\n",
    "        if(option=='n'): #enter own values for p and q\n",
    "            option = input('Do you want to enter your own values (p, q)? (y/n)').lower()\n",
    "            if(option=='y'):\n",
    "                p = input('Enter a prime p: ') \n",
    "                q = input('Enter a prime q: ')\n",
    "                p = int(p) #cast to integer\n",
    "                q = int(q) #cast to integer\n",
    "            else:\n",
    "                print('No values for p and q generated... continuing')\n",
    "        else: #generate random prime\n",
    "            p= random_prime()\n",
    "            q= random_prime()\n",
    "        return p, q\n",
    "    \n",
    "    def get_message(): #just to collect a message to encrypt\n",
    "        message = input('Enter a message to encrypt:')\n",
    "        return message\n",
    "    \n",
    "    def decode_list():\n",
    "        decode_list = input('Enter cipher text list (NO BRACKETS): ')\n",
    "        my_list = decode_list.split(\",\")\n",
    "        my_list = [int(i) for i in my_list] #cast to a list to avoid errors\n",
    "        return my_list\n",
    "    \n",
    "    def menu(p,q): #main menu function\n",
    "        \n",
    "        while True: #run the loop until quit\n",
    "\n",
    "            #main options\n",
    "            print('(1) Encode')\n",
    "            print('(2) Decode')\n",
    "            print('(3) Get Keys')\n",
    "            print('(Q) Quit')\n",
    "            choice = input('Enter a choice: ').lower() #send option to lowercase to avoid errors\n",
    "            \n",
    "            if choice == '1': #ENCRYPT\n",
    "                n,e = Find_Public_Key_e(p,q)\n",
    "                print(\"Public Key (n,e): \", n, e)\n",
    "                message = get_message()\n",
    "                encoded_list = Encode(n,e,message)\n",
    "                print(encoded_list)\n",
    "                    \n",
    "            elif choice == '2': #DECRYPT\n",
    "                d = Find_Private_Key_d(e,p,q)\n",
    "                print(\"Private Key (d):\", d)\n",
    "                n = input('Enter private key value n: ')\n",
    "                n=int(n)\n",
    "                d = input('Enter private key value d: ')\n",
    "                d=int(d)\n",
    "                lst = decode_list()\n",
    "                message = Decode(n,d,lst)\n",
    "                print(message)\n",
    "                \n",
    "            elif choice == '3': #KEYS\n",
    "                n,e = Find_Public_Key_e(p,q)\n",
    "                print(\"Public Key (n,e): \", n, e)\n",
    "                d = Find_Private_Key_d(e,p,q)\n",
    "                print(\"Private Key (d):\", d)\n",
    "    \n",
    "            elif choice == 'q': #QUIT\n",
    "                return\n",
    "            else:\n",
    "                print(f'Not a correct choice: <{choice}>,try again')\n",
    "    \n",
    "    print(\"Before running the menu, p and q inputs must be generated\")\n",
    "    p,q=prime_option()\n",
    "    menu(p,q)\n",
    "    \n",
    "if __name__ == \"__main__\":\n",
    "    main()"
   ]
  }
 ],
 "metadata": {
  "kernelspec": {
   "display_name": "Python 3 (ipykernel)",
   "language": "python",
   "name": "python3"
  },
  "language_info": {
   "codemirror_mode": {
    "name": "ipython",
    "version": 3
   },
   "file_extension": ".py",
   "mimetype": "text/x-python",
   "name": "python",
   "nbconvert_exporter": "python",
   "pygments_lexer": "ipython3",
   "version": "3.9.6"
  }
 },
 "nbformat": 4,
 "nbformat_minor": 4
}
